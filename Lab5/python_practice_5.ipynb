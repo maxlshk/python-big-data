{
 "nbformat": 4,
 "nbformat_minor": 0,
 "metadata": {
  "colab": {
   "provenance": []
  },
  "kernelspec": {
   "name": "python3",
   "language": "python",
   "display_name": "Python 3 (ipykernel)"
  },
  "language_info": {
   "name": "python"
  }
 },
 "cells": [
  {
   "cell_type": "markdown",
   "source": [
    "# I. OOP"
   ],
   "metadata": {
    "id": "5qV_sehzFCTp"
   }
  },
  {
   "cell_type": "markdown",
   "source": [
    "1. (6б). Створіть клас Animal, додайте три атрибути, один з яких має значення за замовчуванням та два методи на свій розсуд."
   ],
   "metadata": {
    "id": "tx_U_hOALyfg"
   }
  },
  {
   "cell_type": "code",
   "source": [
    "class Animal:\n",
    "    def __init__(self, name, age, color='black'):\n",
    "        self.name = name\n",
    "        self.age = age\n",
    "        self.color = color\n",
    "    def set_color(self, color):\n",
    "        self.color = color\n",
    "    def make_older(self):\n",
    "        self.age+= 1"
   ],
   "metadata": {
    "id": "-Vf895KaL88N",
    "ExecuteTime": {
     "end_time": "2024-02-27T10:03:26.865808900Z",
     "start_time": "2024-02-27T10:03:26.845336200Z"
    }
   },
   "execution_count": 1,
   "outputs": []
  },
  {
   "cell_type": "markdown",
   "source": [
    "2. (2б). Створіть два обʼєкти цього класу, де один з обʼєктів створюється із дефолтним значенням атрибуту. На одному обʼєкті отримайте значення його атрибуту, а на іншому викличте один з його методів."
   ],
   "metadata": {
    "id": "X_UlOMB0L93w"
   }
  },
  {
   "cell_type": "code",
   "source": [
    "penguin = Animal('Penguin', 3)\n",
    "rabbit = Animal('Rabbit', 2, 'white')\n",
    "print(penguin.color)\n",
    "rabbit.set_color('pink')"
   ],
   "metadata": {
    "id": "7gBu0ESOMCpG",
    "ExecuteTime": {
     "end_time": "2024-02-27T10:06:21.186134300Z",
     "start_time": "2024-02-27T10:06:21.128767300Z"
    }
   },
   "execution_count": 2,
   "outputs": [
    {
     "name": "stdout",
     "output_type": "stream",
     "text": [
      "black\n"
     ]
    }
   ]
  },
  {
   "cell_type": "markdown",
   "source": [
    "3. (5б). Створіть клас, де атрибути мають різні рівні доступу. Спробуйте отримати їхні значення та опишіть результати."
   ],
   "metadata": {
    "id": "HoqSCZt1MHn5"
   }
  },
  {
   "cell_type": "code",
   "source": [
    "class AccessShowcase:\n",
    "    def __init__(self, public = 'public', protected = 'protected', private = 'private'):\n",
    "        self.public = public\n",
    "        self._protected = protected\n",
    "        self.__private = private\n",
    "    def get_private(self):\n",
    "        return self.__private\n",
    "    def set_private(self, value):\n",
    "        self.__private = value\n",
    "        \n",
    "test = AccessShowcase()\n",
    "print(test.public)\n",
    "print(test._protected) # protected is not really protected\n",
    "try:\n",
    "    print(test.__private)\n",
    "finally:\n",
    "    print(\"\\nNo access to private, let's try to get it with a method\\n\")\n",
    "    print(test.get_private())\n",
    "    test.set_private('new private')\n",
    "    print(test.get_private())"
   ],
   "metadata": {
    "id": "r9b3vJxBMSPV",
    "ExecuteTime": {
     "end_time": "2024-02-27T10:11:41.113299700Z",
     "start_time": "2024-02-27T10:11:41.063592100Z"
    }
   },
   "execution_count": 5,
   "outputs": [
    {
     "name": "stdout",
     "output_type": "stream",
     "text": [
      "public\n",
      "protected\n",
      "\n",
      "No access to private, let's try to get it with a method\n",
      "\n",
      "private\n",
      "new private\n"
     ]
    },
    {
     "ename": "AttributeError",
     "evalue": "'AccessShowcase' object has no attribute '__private'",
     "output_type": "error",
     "traceback": [
      "\u001B[1;31m---------------------------------------------------------------------------\u001B[0m",
      "\u001B[1;31mAttributeError\u001B[0m                            Traceback (most recent call last)",
      "Cell \u001B[1;32mIn[5], line 15\u001B[0m\n\u001B[0;32m     13\u001B[0m \u001B[38;5;28mprint\u001B[39m(test\u001B[38;5;241m.\u001B[39m_protected)\n\u001B[0;32m     14\u001B[0m \u001B[38;5;28;01mtry\u001B[39;00m:\n\u001B[1;32m---> 15\u001B[0m     \u001B[38;5;28mprint\u001B[39m(\u001B[43mtest\u001B[49m\u001B[38;5;241;43m.\u001B[39;49m\u001B[43m__private\u001B[49m)\n\u001B[0;32m     16\u001B[0m \u001B[38;5;28;01mfinally\u001B[39;00m:\n\u001B[0;32m     17\u001B[0m     \u001B[38;5;28mprint\u001B[39m(\u001B[38;5;124m\"\u001B[39m\u001B[38;5;130;01m\\n\u001B[39;00m\u001B[38;5;124mNo access to private, let\u001B[39m\u001B[38;5;124m'\u001B[39m\u001B[38;5;124ms try to get it with a method\u001B[39m\u001B[38;5;130;01m\\n\u001B[39;00m\u001B[38;5;124m\"\u001B[39m)\n",
      "\u001B[1;31mAttributeError\u001B[0m: 'AccessShowcase' object has no attribute '__private'"
     ]
    }
   ]
  },
  {
   "cell_type": "markdown",
   "source": [
    "4. (7б). Як ви розумієте термін self? Для чого використовується метод __init __?"
   ],
   "metadata": {
    "id": "5op2m2vgMSkZ"
   }
  },
  {
   "cell_type": "markdown",
   "source": [
    "*місце для відповіді"
   ],
   "metadata": {
    "id": "DyiPqNRvMasx"
   }
  },
  {
   "cell_type": "markdown",
   "source": [
    "5. (9б). Створіть клас Фігура без атрибутів, з методом get_area для отримання площі фігури, що повертає 0 та __add __, який приймає self та other в якості аргументів, а повертає суму площин фігур self та other."
   ],
   "metadata": {
    "id": "-6X8EGfjMd2y"
   }
  },
  {
   "cell_type": "code",
   "source": [],
   "metadata": {
    "id": "4rvO_wYUMaEr"
   },
   "execution_count": null,
   "outputs": []
  },
  {
   "cell_type": "markdown",
   "source": [
    "6. (11б). Створіть 2 дочірніх класи від Фігури: Трикутник та Коло, які мають атрибути, необхідні для розрахунку площин. Визначте метод get_area в кожному з них так, щоби вони розраховували площу в залежності від формули для кожного типу фігури. Створіть обʼєкт класу Трикутник та обʼєкт класу Коло. Виконайте операцію суми за допомогою оператора + між ними."
   ],
   "metadata": {
    "id": "SFcKnnv5Mo_z"
   }
  },
  {
   "cell_type": "code",
   "source": [],
   "metadata": {
    "id": "H3GVNr69Muf3"
   },
   "execution_count": null,
   "outputs": []
  },
  {
   "cell_type": "markdown",
   "source": [
    "7. (3б). Продемонструйте різницю між isinstance та issubclass."
   ],
   "metadata": {
    "id": "HCvR206YMvLK"
   }
  },
  {
   "cell_type": "code",
   "source": [],
   "metadata": {
    "id": "L_V1bBvDM0GN"
   },
   "execution_count": null,
   "outputs": []
  },
  {
   "cell_type": "markdown",
   "source": [
    "8. (13б). Створіть клас BankAccount з приватними атрибутами balance та account_number. Реалізуйте методи поповнення та зняття коштів, забезпечивши належну інкапсуляцію. Підказка: використовуйте декоратори property та setter."
   ],
   "metadata": {
    "id": "jjsaBZ-iM0Qq"
   }
  },
  {
   "cell_type": "code",
   "source": [],
   "metadata": {
    "id": "xCvZ7lh8M7YA"
   },
   "execution_count": null,
   "outputs": []
  },
  {
   "cell_type": "markdown",
   "source": [
    "9. (11б). Створіть клас Library, який містить список об'єктів типу Book. Реалізуйте методи для додавання книги, видалення книги та відображення списку книг."
   ],
   "metadata": {
    "id": "tIzL2SJTM8ft"
   }
  },
  {
   "cell_type": "code",
   "source": [],
   "metadata": {
    "id": "HWxfJKLtNAUZ"
   },
   "execution_count": null,
   "outputs": []
  },
  {
   "cell_type": "markdown",
   "source": [
    "10. (13б). Створіть клас Person з атрибутами name та age. Створіть ще один клас Employee з такими атрибутами, як department та salary. Створіть клас Manager, який успадковує обидва класи Person та Employee. Продемонструйте використання множинної спадковості, створивши обʼєкт класу Manager та отримавши mro для цього класу."
   ],
   "metadata": {
    "id": "lmV8pAwwNIqu"
   }
  },
  {
   "cell_type": "code",
   "source": [],
   "metadata": {
    "id": "R49grKlWNPeN"
   },
   "execution_count": null,
   "outputs": []
  },
  {
   "cell_type": "markdown",
   "source": [
    "# II. Iterator"
   ],
   "metadata": {
    "id": "dIJyUiNBFG8G"
   }
  },
  {
   "cell_type": "markdown",
   "source": [
    "11. (4б). Визначте рядок(str) з 4ма різними за значенням символами. Створіть ітератор на основі цього рядка. Викличте 5 разів функцію next на ітераторі, 4ри перших з них огорніть у ф-цію print()."
   ],
   "metadata": {
    "id": "13vsm0NyKIzL"
   }
  },
  {
   "cell_type": "code",
   "source": [],
   "metadata": {
    "id": "81ntabAkKuz-"
   },
   "execution_count": null,
   "outputs": []
  },
  {
   "cell_type": "markdown",
   "source": [
    "А що якщо викликати цю ж функцію на рядку?"
   ],
   "metadata": {
    "id": "aekWHGXOLRsO"
   }
  },
  {
   "cell_type": "code",
   "source": [],
   "metadata": {
    "id": "mxATGsErLV1i"
   },
   "execution_count": null,
   "outputs": []
  },
  {
   "cell_type": "markdown",
   "source": [
    " 12. (5б). Опишіть своїми словами в одному реченні, як ви розумієте різницю між ітерабельними обʼєктами та ітераторами (можна на прикладі)."
   ],
   "metadata": {
    "id": "XwtMEopwJ4pH"
   }
  },
  {
   "cell_type": "markdown",
   "source": [
    "*місце для відповіді"
   ],
   "metadata": {
    "id": "-sHrODc3KFn8"
   }
  },
  {
   "cell_type": "markdown",
   "source": [
    "13. (11б). Створіть клас, що має визначений Iterator Protocol та при кожному виклику next повертає літери англійської абетки, поки вони не вичерпаються."
   ],
   "metadata": {
    "id": "E9qJWmNbK8Gl"
   }
  },
  {
   "cell_type": "code",
   "source": [],
   "metadata": {
    "id": "cqx-g_RsLo6I"
   },
   "execution_count": null,
   "outputs": []
  },
  {
   "cell_type": "markdown",
   "source": [
    "# Вітаю! Ви велика(ий) молодець, що впоралась(вся). Похваліть себе та побалуйте чимось приємним. Я Вами пишаюся."
   ],
   "metadata": {
    "id": "Z3E3S_s1Fv7-"
   }
  }
 ]
}
